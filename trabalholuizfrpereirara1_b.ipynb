{
  "nbformat": 4,
  "nbformat_minor": 0,
  "metadata": {
    "colab": {
      "provenance": [],
      "include_colab_link": true
    },
    "kernelspec": {
      "name": "python3",
      "display_name": "Python 3"
    },
    "language_info": {
      "name": "python"
    }
  },
  "cells": [
    {
      "cell_type": "markdown",
      "metadata": {
        "id": "view-in-github",
        "colab_type": "text"
      },
      "source": [
        "<a href=\"https://colab.research.google.com/github/Luizferrp/jupyter/blob/main/trabalholuizfrpereirara1_b.ipynb\" target=\"_parent\"><img src=\"https://colab.research.google.com/assets/colab-badge.svg\" alt=\"Open In Colab\"/></a>"
      ]
    },
    {
      "cell_type": "markdown",
      "source": [
        "# Instruções:\n",
        "Para a realização desta tarefa você precisa fazer uma cópia deste carderno de questões para a sua conta. Você responderá a questão colando no AVA o link para a sua cópia contendo as suas respostas. \n",
        "\n",
        "Se encontrar qualquer problema de compartilhamento, salve o seu carderno, contendo as suas soluções, no Github (Arquivo, Salvar no Github) e poste o link do github no canvas.\n",
        "\n",
        "Todas as questões precisam ser resolvidas algébrica e computacionalmente. Usando todos os recursos computacionais disponíveis na internet. Mas, você não pode consultar outros seres humanos. \n",
        "\n",
        "**Não se equeça de Preencher seu nome nesta célula:**\n",
        "# Luiz Fernando Reis Pereira"
      ],
      "metadata": {
        "id": "tNp1k47LJe0G"
      }
    },
    {
      "cell_type": "markdown",
      "source": [
        "# Questão 1: \n",
        "O valor de um computador deprecia exponencialmente com o tempo. Seu valor inicial é de R$ 4.000, e a taxa de depreciação anual é de 20%. Qual será o valor do computador após 5 anos? Use a fórmula:\n",
        "\n",
        "$$\n",
        "V(t) = V_0 \\cdot (1 - r)^t\n",
        "$$\n",
        "\n",
        "onde $V_0$ é o valor inicial, $r$ é a taxa de depreciação e $t$ é o tempo em anos. Não se esqueça de traçar um gráfico mostrando o o valor do bem depreciado, ano a ano, nos próximos 15 anos."
      ],
      "metadata": {
        "id": "hf2mQHzKJrdS"
      }
    },
    {
      "cell_type": "code",
      "execution_count": null,
      "metadata": {
        "id": "TJUsKBX7JeHw"
      },
      "outputs": [],
      "source": [
        "def depreciacao(tempo):\n",
        "  tempo = int(tempo)\n",
        "  r = 0.2\n",
        "  vt = 4000*(1-r)**tempo\n",
        "  return vt"
      ]
    },
    {
      "cell_type": "code",
      "source": [
        "depreciacao(1)"
      ],
      "metadata": {
        "colab": {
          "base_uri": "https://localhost:8080/"
        },
        "id": "-F9dSyXMIGr3",
        "outputId": "3f4130e2-37ac-4d82-a9f4-e7bc0c74368c"
      },
      "execution_count": null,
      "outputs": [
        {
          "output_type": "execute_result",
          "data": {
            "text/plain": [
              "3200.0"
            ]
          },
          "metadata": {},
          "execution_count": 27
        }
      ]
    },
    {
      "cell_type": "code",
      "source": [
        "import matplotlib.pyplot as plt\n",
        "x1, y1 = [], []\n",
        "plt.grid()\n",
        "for x in range(16):\n",
        "  y = depreciacao(x)\n",
        "  x1.append(x)\n",
        "  y1.append(y)\n",
        "  plt.scatter(x, y)\n",
        "  plt.text(x-2.5, y-30, (f\"{y:.2f}\"))\n",
        "plt.plot(x1,y1, 'r')"
      ],
      "metadata": {
        "colab": {
          "base_uri": "https://localhost:8080/",
          "height": 284
        },
        "id": "3QqV7zNEJtjG",
        "outputId": "92334c1a-90c0-4485-c58a-b24efe28402b"
      },
      "execution_count": null,
      "outputs": [
        {
          "output_type": "execute_result",
          "data": {
            "text/plain": [
              "[<matplotlib.lines.Line2D at 0x7f70e135a280>]"
            ]
          },
          "metadata": {},
          "execution_count": 89
        },
        {
          "output_type": "display_data",
          "data": {
            "text/plain": [
              "<Figure size 432x288 with 1 Axes>"
            ],
            "image/png": "[encoded data removed]"
          },
          "metadata": {
            "needs_background": "light"
          }
        }
      ]
    },
    {
      "cell_type": "markdown",
      "source": [
        "# Questão 2\n",
        "Usando, a seu critério, as bibliotecas do Python, crie um gráfico para cada uma das funções a seguir. No label do gráfico deverá estar a função impressa com qualidade matemática (latex) e uma label dizendo se a função é crescente ou decrescente. \n",
        "\n",
        "1. $3^{x-1} - 2^x = 7$\n",
        "\n",
        "2. $\\log_5(2x + 1) + \\log_5(x - 2) = 2$"
      ],
      "metadata": {
        "id": "TeHkHAbEPsps"
      }
    },
    {
      "cell_type": "code",
      "source": [
        "import matplotlib.pyplot as plt\n",
        "import math"
      ],
      "metadata": {
        "id": "lTKI579jSJNW"
      },
      "execution_count": null,
      "outputs": []
    },
    {
      "cell_type": "code",
      "source": [
        "#1\n",
        "x = []\n",
        "y = []\n",
        "\n",
        "for i in range(-5,5):\n",
        "  x.append(i)\n",
        "  y.append(3**(i-1)-2**i -7)\n",
        "\n",
        "plt.plot(x, y)\n",
        "plt.xlabel(\"decrescente até 0, e crescente depois dele \\n $3^{i-1}-2^{i}-7$\")"
      ],
      "metadata": {
        "colab": {
          "base_uri": "https://localhost:8080/",
          "height": 315
        },
        "id": "SvUKONjPXgaW",
        "outputId": "9725c9a4-1c82-43f4-865f-bd7b3e774765"
      },
      "execution_count": null,
      "outputs": [
        {
          "output_type": "execute_result",
          "data": {
            "text/plain": [
              "Text(0.5, 0, 'decrescente até 0, e crescente depois dele \\n $3^{i-1}-2^{i}-7$')"
            ]
          },
          "metadata": {},
          "execution_count": 104
        },
        {
          "output_type": "display_data",
          "data": {
            "text/plain": [
              "<Figure size 432x288 with 1 Axes>"
            ],
            "image/png": "[encoded data removed]"
          },
          "metadata": {
            "needs_background": "light"
          }
        }
      ]
    },
    {
      "cell_type": "code",
      "source": [
        "#2\n",
        "x = []\n",
        "y = []\n",
        "\n",
        "for i in range(3,100):\n",
        "  x.append(i)\n",
        "  a = math.log(2*i+1, 5)\n",
        "  b = math.log(i-2, 5)\n",
        "  y.append( a + b - 2)\n",
        "plt.plot(x, y)\n",
        "plt.xlabel(\"crescente \\n $\\\\log_{5}(2^{i-1}) \\log_{5}(x-2) -2$\")"
      ],
      "metadata": {
        "colab": {
          "base_uri": "https://localhost:8080/",
          "height": 316
        },
        "id": "0PvaitKrbAXA",
        "outputId": "291d14a0-ce87-4fa5-8e13-c32984fcd288"
      },
      "execution_count": null,
      "outputs": [
        {
          "output_type": "execute_result",
          "data": {
            "text/plain": [
              "Text(0.5, 0, 'crescente \\n $\\\\log_{5}(2^{i-1}) \\\\log_{5}(x-2) -2$')"
            ]
          },
          "metadata": {},
          "execution_count": 105
        },
        {
          "output_type": "display_data",
          "data": {
            "text/plain": [
              "<Figure size 432x288 with 1 Axes>"
            ],
            "image/png": "[encoded data removed]"
          },
          "metadata": {
            "needs_background": "light"
          }
        }
      ]
    },
    {
      "cell_type": "markdown",
      "source": [
        "# Questão 3\n",
        "Usando o Sympy, ou qualquer outro recurso disponível na internet, escreva, com qualidade matemática o passo-a-passo algébrico que leva a determinação dos seguintes limites. Ao final, para cada uma das equações você deverá traçar um gráfico da função. \n",
        "\n",
        "1. $\\lim_{x \\to 0} \\frac{\\sin(2x)}{x}$\n",
        "\n",
        "2. $\\lim_{x \\to \\infty} \\frac{e^x}{x^3}$"
      ],
      "metadata": {
        "id": "JiLkY9RdSJ2H"
      }
    },
    {
      "cell_type": "code",
      "source": [
        "#1\n",
        "from IPython.core.display import Math\n",
        "Math(r'\\lim_{x \\to 0} \\frac{\\sin(0)}{0} \\to -\\infty ' )"
      ],
      "metadata": {
        "colab": {
          "base_uri": "https://localhost:8080/",
          "height": 53
        },
        "id": "plGMW6CnTdng",
        "outputId": "0973a1d4-13bb-4f23-85fd-5e62f3c54bbf"
      },
      "execution_count": null,
      "outputs": [
        {
          "output_type": "execute_result",
          "data": {
            "text/plain": [
              "<IPython.core.display.Math object>"
            ],
            "text/latex": "$\\displaystyle \\lim_{x \\to 0} \\frac{\\sin(0)}{0} \\to -\\infty $"
          },
          "metadata": {},
          "execution_count": 125
        }
      ]
    },
    {
      "cell_type": "code",
      "source": [
        "from numpy.lib.function_base import sinc\n",
        "import math\n",
        "import matplotlib.pyplot as plt\n",
        "\n",
        "x = []\n",
        "y = []\n",
        "\n",
        "for i in range(1,200):\n",
        "  x.append(i)\n",
        "  lim = sinc(2*i)/i\n",
        "  y.append(lim)\n",
        "\n",
        "plt.plot(x, y, 'r')"
      ],
      "metadata": {
        "colab": {
          "base_uri": "https://localhost:8080/",
          "height": 295
        },
        "id": "GzP6e2mLphqN",
        "outputId": "eb4d5084-fa75-4843-9ef8-5a06a650961f"
      },
      "execution_count": null,
      "outputs": [
        {
          "output_type": "execute_result",
          "data": {
            "text/plain": [
              "[<matplotlib.lines.Line2D at 0x7f70df24f9d0>]"
            ]
          },
          "metadata": {},
          "execution_count": 130
        },
        {
          "output_type": "display_data",
          "data": {
            "text/plain": [
              "<Figure size 432x288 with 1 Axes>"
            ],
            "image/png": "[encoded data removed]"
          },
          "metadata": {
            "needs_background": "light"
          }
        }
      ]
    },
    {
      "cell_type": "code",
      "source": [
        "#2\n",
        "from IPython.core.display import Math\n",
        "print(\" 3 vivas ao L'Hopital\")"
      ],
      "metadata": {
        "colab": {
          "base_uri": "https://localhost:8080/"
        },
        "id": "6M6dxU-coNuc",
        "outputId": "bed6d640-8105-430b-bf67-32ff531c0ac3"
      },
      "execution_count": null,
      "outputs": [
        {
          "output_type": "stream",
          "name": "stdout",
          "text": [
            " 3 vivas ao L'Hopital\n"
          ]
        }
      ]
    },
    {
      "cell_type": "code",
      "source": [
        "Math(r'\\lim_{x \\to \\infty} \\frac{e^x}{3x^2} ') #viva ao L'Hopital"
      ],
      "metadata": {
        "colab": {
          "base_uri": "https://localhost:8080/",
          "height": 52
        },
        "id": "AJV0bIPvoozp",
        "outputId": "08d91fd9-638d-49d9-8a3b-99b8cfea7ed8"
      },
      "execution_count": null,
      "outputs": [
        {
          "output_type": "execute_result",
          "data": {
            "text/plain": [
              "<IPython.core.display.Math object>"
            ],
            "text/latex": "$\\displaystyle \\lim_{x \\to \\infty} \\frac{e^x}{3x^2} $"
          },
          "metadata": {},
          "execution_count": 123
        }
      ]
    },
    {
      "cell_type": "code",
      "source": [
        "Math(r'\\lim_{x \\to \\infty} \\frac{e^x}{3*2*x} ') #viva ao L'Hopital"
      ],
      "metadata": {
        "colab": {
          "base_uri": "https://localhost:8080/",
          "height": 52
        },
        "id": "BSkFqGv6oZig",
        "outputId": "4be5cf32-d5a5-4b08-cefb-d9d5130ee53b"
      },
      "execution_count": null,
      "outputs": [
        {
          "output_type": "execute_result",
          "data": {
            "text/plain": [
              "<IPython.core.display.Math object>"
            ],
            "text/latex": "$\\displaystyle \\lim_{x \\to \\infty} \\frac{e^x}{3*2*x} $"
          },
          "metadata": {},
          "execution_count": 120
        }
      ]
    },
    {
      "cell_type": "code",
      "source": [
        "Math(r'\\lim_{x \\to \\infty} \\frac{e^x}{6} ') #viva ao L'Hopital"
      ],
      "metadata": {
        "colab": {
          "base_uri": "https://localhost:8080/",
          "height": 52
        },
        "id": "aXNvgv9pob8Z",
        "outputId": "5ff9dab8-6cbd-45b4-84c4-2a521a888976"
      },
      "execution_count": null,
      "outputs": [
        {
          "output_type": "execute_result",
          "data": {
            "text/plain": [
              "<IPython.core.display.Math object>"
            ],
            "text/latex": "$\\displaystyle \\lim_{x \\to \\infty} \\frac{e^x}{6} $"
          },
          "metadata": {},
          "execution_count": 121
        }
      ]
    },
    {
      "cell_type": "code",
      "source": [
        "Math(r'\\frac{1}{6} * \\lim_{x \\to \\infty} \\to \\infty ')"
      ],
      "metadata": {
        "colab": {
          "base_uri": "https://localhost:8080/",
          "height": 51
        },
        "id": "cw-LklB1oeSQ",
        "outputId": "484df44e-60c6-4a8d-967f-c7bbd90f9534"
      },
      "execution_count": null,
      "outputs": [
        {
          "output_type": "execute_result",
          "data": {
            "text/plain": [
              "<IPython.core.display.Math object>"
            ],
            "text/latex": "$\\displaystyle \\frac{1}{6} * \\lim_{x \\to \\infty} \\to \\infty $"
          },
          "metadata": {},
          "execution_count": 122
        }
      ]
    },
    {
      "cell_type": "code",
      "source": [
        "import math\n",
        "from math import e\n",
        "import matplotlib.pyplot as plt\n",
        "\n",
        "x = []\n",
        "y = []\n",
        "\n",
        "for i in range(1,23):\n",
        "  x.append(i)\n",
        "  lim = e**(i)/(i**6)\n",
        "  y.append(lim)\n",
        "\n",
        "plt.plot(x, y, 'r')"
      ],
      "metadata": {
        "colab": {
          "base_uri": "https://localhost:8080/",
          "height": 284
        },
        "id": "BLmvCM1UqfG9",
        "outputId": "fa5c6b82-3d54-4af3-99e1-b9cba08d9520"
      },
      "execution_count": null,
      "outputs": [
        {
          "output_type": "execute_result",
          "data": {
            "text/plain": [
              "[<matplotlib.lines.Line2D at 0x7f70ded91be0>]"
            ]
          },
          "metadata": {},
          "execution_count": 143
        },
        {
          "output_type": "display_data",
          "data": {
            "text/plain": [
              "<Figure size 432x288 with 1 Axes>"
            ],
            "image/png": "[encoded data removed]"
          },
          "metadata": {
            "needs_background": "light"
          }
        }
      ]
    }
  ]
}
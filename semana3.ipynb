{
  "nbformat": 4,
  "nbformat_minor": 0,
  "metadata": {
    "colab": {
      "provenance": [],
      "authorship_tag": "ABX9TyNCIHcDZ0S3ryTXlInFNbAP",
      "include_colab_link": true
    },
    "kernelspec": {
      "name": "python3",
      "display_name": "Python 3"
    },
    "language_info": {
      "name": "python"
    }
  },
  "cells": [
    {
      "cell_type": "markdown",
      "metadata": {
        "id": "view-in-github",
        "colab_type": "text"
      },
      "source": [
        "<a href=\"https://colab.research.google.com/github/Luizferrp/jupyter/blob/main/semana3.ipynb\" target=\"_parent\"><img src=\"https://colab.research.google.com/assets/colab-badge.svg\" alt=\"Open In Colab\"/></a>"
      ]
    },
    {
      "cell_type": "markdown",
      "source": [
        "###(1) Considere a função a seguir, crie uma tabela que indique o valor do limite quando x tende a 3 pela esquerda e pela direita."
      ],
      "metadata": {
        "id": "wweBTf6OKchN"
      }
    },
    {
      "cell_type": "code",
      "execution_count": null,
      "metadata": {
        "id": "NhPxiH4tKYC9"
      },
      "outputs": [],
      "source": [
        "import sympy as sp\n",
        "import numpy as np\n",
        "import matplotlib.pyplot as plt\n",
        "import IPython.display as disp\n",
        "import sympy.printing.mathml as spmt\n",
        "from tabulate import tabulate"
      ]
    },
    {
      "cell_type": "code",
      "source": [
        "lim_d = sp.limit(func, x, 3, dir='+')\n",
        "lim_e = sp.limit(func, x, 3, dir='-')\n",
        "\n",
        "print(f\"tendencia do limite pela direita : {lim_d}\")\n",
        "print(f\"tendencia do limite pela esquerda : {lim_d}\")"
      ],
      "metadata": {
        "colab": {
          "base_uri": "https://localhost:8080/"
        },
        "id": "v8Jv1qPKVVMN",
        "outputId": "503636f1-d972-4b93-d6de-664fccd66faf"
      },
      "execution_count": null,
      "outputs": [
        {
          "output_type": "stream",
          "name": "stdout",
          "text": [
            "tendencia do limite pela direita : 5\n",
            "tendencia do limite pela esquerda : 5\n"
          ]
        }
      ]
    },
    {
      "cell_type": "code",
      "source": [
        "def fn_lim_d():\n",
        "    axis = []\n",
        "    array = np.linspace(2.1, 2.9999, 9)\n",
        "    for x in array:\n",
        "        try:\n",
        "            y = (x ** 2 - 4) / (x - 2)\n",
        "            axis.append([x, y])\n",
        "        except ZeroDivisionError:\n",
        "            axis.append([0, 0])\n",
        "    return axis\n",
        "\n",
        "def fn_lim_e():\n",
        "    axis = []\n",
        "    array = np.linspace(3.0001, 4, 9)\n",
        "    for x in array:\n",
        "        try:\n",
        "            y = (x ** 2 - 4) / (x - 2)\n",
        "            axis.append([x, y])\n",
        "        except ZeroDivisionError:\n",
        "            break\n",
        "    return axis\n",
        "\n",
        "lins_lim_d = fn_lim_d()\n",
        "lins_lim_e = fn_lim_e()\n",
        "\n",
        "print(\"tendendo a 3 pela esquerda\", \"\\n\", tabulate(lins_lim_d, headers=[\"x\", \" lim\"]), \"\\n\")\n",
        "print(\"tendendo a 3 pela direita\", \"\\n\",  tabulate(lins_lim_e, headers=[\"x\", \" lim\"]))"
      ],
      "metadata": {
        "colab": {
          "base_uri": "https://localhost:8080/"
        },
        "id": "5xhwg5leVPP7",
        "outputId": "2f7faf8c-6167-42ad-d601-a1577ff44b92"
      },
      "execution_count": null,
      "outputs": [
        {
          "output_type": "stream",
          "name": "stdout",
          "text": [
            "tendendo a 3 pela esquerda \n",
            "       x      lim\n",
            "-------  -------\n",
            "2.1      4.1\n",
            "2.21249  4.21249\n",
            "2.32498  4.32498\n",
            "2.43746  4.43746\n",
            "2.54995  4.54995\n",
            "2.66244  4.66244\n",
            "2.77492  4.77492\n",
            "2.88741  4.88741\n",
            "2.9999   4.9999 \n",
            "\n",
            "tendendo a 3 pela direita \n",
            "       x      lim\n",
            "-------  -------\n",
            "3.0001   5.0001\n",
            "3.12509  5.12509\n",
            "3.25008  5.25007\n",
            "3.37506  5.37506\n",
            "3.50005  5.50005\n",
            "3.62504  5.62504\n",
            "3.75002  5.75002\n",
            "3.87501  5.87501\n",
            "4        6\n"
          ]
        }
      ]
    },
    {
      "cell_type": "code",
      "source": [
        "x = np.linspace(0, 5, 20)\n",
        "y = (x ** 2 - 4) / (x - 2)\n",
        "\n",
        "for i in lins_lim_d:\n",
        "  plt.text(i[0], i[1]-0.5, (f\"({i[0]:.2f}, {i[1]:.2f})\"), fontsize=8)\n",
        "  plt.scatter(i[0], i[1]) \n",
        "\n",
        "for i in lins_lim_e:\n",
        "  plt.text(i[0]-0.9, i[1], (f\"({i[0]:.2f}, {i[1]:.2f})\"), fontsize=8)\n",
        "  plt.scatter(i[0], i[1]) \n",
        "\n",
        "\n",
        "plt.grid()\n",
        "plt.plot(x, y, 'b')\n",
        "plt.text(3.25, lim_d, (\"(3.0, 5.0)\"), fontsize=10)\n",
        "plt.scatter(3, lim_d)\n"
      ],
      "metadata": {
        "colab": {
          "base_uri": "https://localhost:8080/",
          "height": 284
        },
        "id": "_hcmRHkqVm98",
        "outputId": "352e3369-6746-402c-dbc0-2c7650895abf"
      },
      "execution_count": null,
      "outputs": [
        {
          "output_type": "execute_result",
          "data": {
            "text/plain": [
              "<matplotlib.collections.PathCollection at 0x7f8e407ad370>"
            ]
          },
          "metadata": {},
          "execution_count": 10
        },
        {
          "output_type": "display_data",
          "data": {
            "text/plain": [
              "<Figure size 432x288 with 1 Axes>"
            ],
            "image/png": "[encoded data removed]"
          },
          "metadata": {
            "needs_background": "light"
          }
        }
      ]
    },
    {
      "cell_type": "markdown",
      "source": [
        "###(2) Você deve apresentar o passo a passo das operações algébricas necessárias para encontrar os limites em látex, em células de texto além dos resultados dos limites."
      ],
      "metadata": {
        "id": "EUtnsj80H90J"
      }
    },
    {
      "cell_type": "markdown",
      "source": [
        "####2(a) $\\lim\\limits_{x \\to 1} (\\frac{x^2 -3+2}{x-1})$"
      ],
      "metadata": {
        "id": "z6dbU5DMHSJf"
      }
    },
    {
      "cell_type": "markdown",
      "source": [
        "$\\lim\\limits_{x \\to 1} (\\frac{(x-2)(x-1)}{(x-1)})$\n",
        "\n",
        "$\\lim\\limits_{x \\to 1} (x-2)$\n",
        "\n",
        "$\\lim\\limits_{x \\to 1} \\to (1-2)$\n",
        "\n",
        "$\\lim\\limits_{x \\to 1} \\to (-1)$"
      ],
      "metadata": {
        "id": "nDQw2AMZQhsI"
      }
    },
    {
      "cell_type": "markdown",
      "source": [
        "####2(b)  $\\lim\\limits_{x \\to 2} (\\frac{3x^2 -2x-5}{x-1})$"
      ],
      "metadata": {
        "id": "dDPb7JMQHybx"
      }
    },
    {
      "cell_type": "markdown",
      "source": [
        "$\\lim\\limits_{x \\to 2} \\to (\\frac{3*(2^2) -2(2)-5}{(2)-1})$\n",
        "\n",
        "$\\lim\\limits_{x \\to 2} \\to (\\frac{12-4-5}{1})$\n",
        "\n",
        "$\\lim\\limits_{x \\to 2} \\to ({12-9})$\n",
        "\n",
        "$\\lim\\limits_{x \\to 2} \\to 3$"
      ],
      "metadata": {
        "id": "ZmmVsmfgTO6T"
      }
    },
    {
      "cell_type": "markdown",
      "source": [
        "###(3)Você deve apresentar o passo a passo das operações algébricas necessárias para encontrar os limites em látex, em células de texto além dos resultados dos limites."
      ],
      "metadata": {
        "id": "IIGaKv4DMMvG"
      }
    },
    {
      "cell_type": "code",
      "source": [
        "import matplotlib.pyplot as plt\n",
        "import numpy as np\n",
        "import sympy as sym"
      ],
      "metadata": {
        "id": "ICC4CJlQwovp"
      },
      "execution_count": 1,
      "outputs": []
    },
    {
      "cell_type": "markdown",
      "source": [
        "####$\\lim\\limits_{x \\to 9} (\\sqrt{x-8} +3)$\n",
        "\n",
        "$(\\sqrt{9-8} +3)$\n",
        "\n",
        "$(1 +3)$\n",
        "\n",
        "$\\lim\\limits_{x \\to 9} (\\sqrt{x-8} +3) \\to +4$"
      ],
      "metadata": {
        "id": "S2LTh85YMRg-"
      }
    },
    {
      "cell_type": "code",
      "source": [
        "x = sym.symbols('x')\n",
        "sym.limit(sym.sqrt(x-8)+3,x,9) #calculando o limite com sympy"
      ],
      "metadata": {
        "colab": {
          "base_uri": "https://localhost:8080/",
          "height": 37
        },
        "id": "UY2lbH2SyFTq",
        "outputId": "4617bca7-93c4-4548-9ca9-179680430064"
      },
      "execution_count": 39,
      "outputs": [
        {
          "output_type": "execute_result",
          "data": {
            "text/plain": [
              "4"
            ],
            "text/latex": "$\\displaystyle 4$"
          },
          "metadata": {},
          "execution_count": 39
        }
      ]
    },
    {
      "cell_type": "code",
      "source": [
        "x_local = np.linspace(8.8, 9.5, 18)\n",
        "y = np.sqrt(x_local-8) + 3\n",
        "p = plt.plot(x_local, y, 'b')\n",
        "plt.title('limite da função tendendo a 9')\n",
        "plt.grid()\n",
        "plt.scatter(9,4)\n",
        "plt.text(9.25, 3.75, (\"(9.0, 4.0)\"), fontsize=8)\n",
        "plt.plot()"
      ],
      "metadata": {
        "colab": {
          "base_uri": "https://localhost:8080/",
          "height": 362
        },
        "id": "h-nbhLJbwWml",
        "outputId": "f38689e2-8a68-4f0a-bb6a-55c1d0e13030"
      },
      "execution_count": 40,
      "outputs": [
        {
          "output_type": "execute_result",
          "data": {
            "text/plain": [
              "[]"
            ]
          },
          "metadata": {},
          "execution_count": 40
        },
        {
          "output_type": "display_data",
          "data": {
            "text/plain": [
              "<Figure size 432x288 with 1 Axes>"
            ],
            "image/png": "[encoded data removed]"
          },
          "metadata": {
            "needs_background": "light"
          }
        }
      ]
    },
    {
      "cell_type": "markdown",
      "source": [
        "####$\\lim\\limits_{x \\to \\frac{3}{2}} (\\frac{x²-5x+3}{2x²-3x})$\n",
        "\n",
        "$\\frac{2*x^2-5*x+3}{2*x^2-3*x}$\n",
        "\n",
        "$\\frac{2*\\frac{3}{2}^2-5* \\frac{3}{2}+3}{2* \\frac{3}{2}^2-3*\\frac{3}{2}}$\n",
        "\n",
        "$\\frac{-5*\\frac{3}{2}+3}{-3*\\frac{3}{2}} = \\frac{1}{3}$\n",
        "\n",
        "$\\lim\\limits_{x \\to \\frac{3}{2}} (\\frac{x²-5x+3}{2x²-3x}) \\to \\frac{1}{3}$\n",
        "\n"
      ],
      "metadata": {
        "id": "8YKvriLsM9e7"
      }
    },
    {
      "cell_type": "code",
      "source": [
        "x = np.linspace(-4, 4, 18)\n",
        "y = (2*x**2-5*x+3)/(2*x**2-3*x)\n",
        "p = plt.plot(x_local, y, 'b')\n",
        "plt.title('limite da função tendendo a 2/3')\n",
        "plt.grid()\n",
        "plt.scatter(3/2, 1/3)\n",
        "plt.text(9.25, 3.75, (\"(9.0, 4.0)\"), fontsize=8)\n",
        "plt.plot()"
      ],
      "metadata": {
        "colab": {
          "base_uri": "https://localhost:8080/",
          "height": 300
        },
        "id": "p8JUE98E0s4X",
        "outputId": "50eba6ca-6ef5-4015-a3d1-fe4890cb9e7e"
      },
      "execution_count": 39,
      "outputs": [
        {
          "output_type": "execute_result",
          "data": {
            "text/plain": [
              "[]"
            ]
          },
          "metadata": {},
          "execution_count": 39
        },
        {
          "output_type": "display_data",
          "data": {
            "text/plain": [
              "<Figure size 432x288 with 1 Axes>"
            ],
            "image/png": "[encoded data removed]"
          },
          "metadata": {
            "needs_background": "light"
          }
        }
      ]
    },
    {
      "cell_type": "code",
      "source": [
        "x = sym.symbols('x')\n",
        "sym.limit((2*x**2-5*x+3)/(2*x**2-3*x),x,3/2)"
      ],
      "metadata": {
        "colab": {
          "base_uri": "https://localhost:8080/",
          "height": 37
        },
        "id": "IqtjeBdQ2BmH",
        "outputId": "84c06434-c649-4f45-e40e-629aa4a4f056"
      },
      "execution_count": 37,
      "outputs": [
        {
          "output_type": "execute_result",
          "data": {
            "text/plain": [
              "0.333333333333333"
            ],
            "text/latex": "$\\displaystyle 0.333333333333333$"
          },
          "metadata": {},
          "execution_count": 37
        }
      ]
    },
    {
      "cell_type": "markdown",
      "source": [
        "####$\\lim\\limits_{x \\to 9} (\\frac{\\sqrt{x}-3}{x-9})$\n",
        "\n",
        "$(\\frac{3-3}{9-9})$\n",
        "\n",
        "$(\\frac{(\\sqrt{x}-3)*(\\sqrt{x}-3)}{(x-9)*(\\sqrt{x}-3)})$\n",
        "\n",
        "$(\\frac{(\\sqrt{x}-3)*(\\sqrt{x}-3)}{(x-9)*(\\sqrt{x}-3)})$\n",
        "\n",
        "$\\frac{x-3*\\sqrt{x}-3*\\sqrt{x}+9}{x\\sqrt{x}-3x-9*\\sqrt{x}+27}$\n",
        "\n",
        "$ \\frac{x-6*\\sqrt{x}+9}{(x-9)\\sqrt{x}-3x+27}$\n",
        "\n",
        "$ \\frac{9-6*\\sqrt{9}+9}{(9-9)\\sqrt{9}-3*9+27}$\n",
        "\n",
        "$ \\frac{9-6*\\sqrt{9}+9}{(9-9)\\sqrt{9}-3*9+27}$\n",
        "\n",
        "$ \\frac{0}{0}$"
      ],
      "metadata": {
        "id": "QF770d9ENaik"
      }
    },
    {
      "cell_type": "code",
      "source": [
        "x = np.linspace(5, 15, 18)\n",
        "y = (np.sqrt(x)-3)/(x-9)\n",
        "plt.plot(x, y, 'b')\n",
        "plt.scatter(9,1/6)\n",
        "plt.grid()"
      ],
      "metadata": {
        "colab": {
          "base_uri": "https://localhost:8080/",
          "height": 265
        },
        "id": "eog_QEdB-TBH",
        "outputId": "f906ac54-cf03-4cf0-f077-9da2cba83be2"
      },
      "execution_count": 30,
      "outputs": [
        {
          "output_type": "display_data",
          "data": {
            "text/plain": [
              "<Figure size 432x288 with 1 Axes>"
            ],
            "image/png": "[encoded data removed]"
          },
          "metadata": {
            "needs_background": "light"
          }
        }
      ]
    },
    {
      "cell_type": "code",
      "source": [
        "x = sym.symbols('x')\n",
        "sym.limit((sym.sqrt(x)-3)/(x-9),x,9)"
      ],
      "metadata": {
        "colab": {
          "base_uri": "https://localhost:8080/",
          "height": 51
        },
        "id": "D8AJH7b3-Io8",
        "outputId": "08849342-b971-431b-cbcf-e40276a49c43"
      },
      "execution_count": 48,
      "outputs": [
        {
          "output_type": "execute_result",
          "data": {
            "text/plain": [
              "1/6"
            ],
            "text/latex": "$\\displaystyle \\frac{1}{6}$"
          },
          "metadata": {},
          "execution_count": 48
        }
      ]
    },
    {
      "cell_type": "markdown",
      "source": [
        "$\\lim\\limits_{x \\to -3} g(x)$\n",
        "\n",
        "$g(x) = $\n",
        "$\\begin{cases}\n",
        "x²+3 & x\\ge 0\\\\\n",
        "-2x+6 & x<0\n",
        "\\end{cases}$"
      ],
      "metadata": {
        "id": "BX0PIxikNq8x"
      }
    },
    {
      "cell_type": "markdown",
      "source": [
        "####$\\lim\\limits_{x\\to -3} {x^2}{+3}$\n",
        "\n",
        "$\\lim\\limits_{x\\to -3} {-3^2}{+3}$\n",
        "\n",
        "$\\lim\\limits_{x\\to -3} {-2*x}{+6}$\n",
        "\n",
        "$\\lim\\limits_{x\\to -3} {-2*-3}{+6}$\n",
        "\n",
        "$\\lim\\limits_{x\\to -3} {x^2}{+3} \\to {12}$"
      ],
      "metadata": {
        "id": "FltpeuN8DFRO"
      }
    },
    {
      "cell_type": "code",
      "source": [
        "x = np.linspace(-5, 5, 100)\n",
        "y = (x**2 + 3)\n",
        "y2 = (-2*x+6)"
      ],
      "metadata": {
        "id": "9YWygviZD9DT"
      },
      "execution_count": 37,
      "outputs": []
    },
    {
      "cell_type": "code",
      "source": [
        "plt.scatter(-3,12)\n",
        "plt.text(-3, 12, (\"(-3 , 12)\"), fontsize=10)\n",
        "plt.plot(x, y2, 'b')\n",
        "plt.plot(x, y, 'g')\n",
        "plt.grid()\n",
        "plt.grid()"
      ],
      "metadata": {
        "colab": {
          "base_uri": "https://localhost:8080/",
          "height": 265
        },
        "id": "Gfh3FsmUDtwu",
        "outputId": "c2eccbc3-0555-40b8-8562-5ca36755fa11"
      },
      "execution_count": 38,
      "outputs": [
        {
          "output_type": "display_data",
          "data": {
            "text/plain": [
              "<Figure size 432x288 with 1 Axes>"
            ],
            "image/png": "[encoded data removed]"
          },
          "metadata": {
            "needs_background": "light"
          }
        }
      ]
    },
    {
      "cell_type": "markdown",
      "source": [
        "###(4)Você deve apresentar o passo a passo das operações algébricas necessárias para encontrar os limites em látex, em células de texto além dos resultados dos limites. Além disso, plote estas funções."
      ],
      "metadata": {
        "id": "9Bt3QiZtOLJB"
      }
    },
    {
      "cell_type": "code",
      "source": [
        "import matplotlib.pyplot as plt\n",
        "import sympy as sym\n",
        "import numpy as np"
      ],
      "metadata": {
        "id": "f7InOST_DyqJ"
      },
      "execution_count": null,
      "outputs": []
    },
    {
      "cell_type": "markdown",
      "source": [
        "####$f(x) = \\frac{x-3}{7-x}$"
      ],
      "metadata": {
        "id": "5W09fQAlOSqw"
      }
    },
    {
      "cell_type": "code",
      "source": [
        "x = sym.symbols('x')\n",
        "sym.limit((x-3)/(x-7),x,7)"
      ],
      "metadata": {
        "colab": {
          "base_uri": "https://localhost:8080/",
          "height": 37
        },
        "id": "qgoTZQJBEAER",
        "outputId": "038fac9e-be69-4732-9f22-d8b14c4b6943"
      },
      "execution_count": 52,
      "outputs": [
        {
          "output_type": "execute_result",
          "data": {
            "text/plain": [
              "oo"
            ],
            "text/latex": "$\\displaystyle \\infty$"
          },
          "metadata": {},
          "execution_count": 52
        }
      ]
    },
    {
      "cell_type": "code",
      "source": [
        "x = np.linspace(-30, 30, 70)\n",
        "y = (x-3)/(7-x)"
      ],
      "metadata": {
        "id": "sb3LQWcK5Q7g"
      },
      "execution_count": 42,
      "outputs": []
    },
    {
      "cell_type": "code",
      "source": [
        "plt.xlim(-30, 30)\n",
        "plt.ylim(-15, 10)\n",
        "plt.plot(x, y, 'b')\n",
        "plt.grid()"
      ],
      "metadata": {
        "colab": {
          "base_uri": "https://localhost:8080/",
          "height": 269
        },
        "id": "1l4_ZsnLIBr-",
        "outputId": "198e2bb7-fd07-4e19-f5dc-4c02c6a6dc32"
      },
      "execution_count": 43,
      "outputs": [
        {
          "output_type": "display_data",
          "data": {
            "text/plain": [
              "<Figure size 432x288 with 1 Axes>"
            ],
            "image/png": "[encoded data removed]"
          },
          "metadata": {
            "needs_background": "light"
          }
        }
      ]
    },
    {
      "cell_type": "markdown",
      "source": [
        "####$f(x) = \\frac{1}{x²+5x}$"
      ],
      "metadata": {
        "id": "hZ8Mu6OcOffz"
      }
    },
    {
      "cell_type": "code",
      "source": [
        "x = sym.symbols('x')\n",
        "sym.limit((1)/(x**2+5*x),x,0)"
      ],
      "metadata": {
        "colab": {
          "base_uri": "https://localhost:8080/",
          "height": 37
        },
        "id": "EYCxQdEXEJay",
        "outputId": "ef2590cc-cfd1-4b7d-a007-48acff1f8e3e"
      },
      "execution_count": 53,
      "outputs": [
        {
          "output_type": "execute_result",
          "data": {
            "text/plain": [
              "oo"
            ],
            "text/latex": "$\\displaystyle \\infty$"
          },
          "metadata": {},
          "execution_count": 53
        }
      ]
    },
    {
      "cell_type": "code",
      "source": [
        "x = np.linspace(-20, 20, 60)\n",
        "y = (1)/(x**2+5*x)"
      ],
      "metadata": {
        "id": "fhbsQ7wkIOlY"
      },
      "execution_count": 21,
      "outputs": []
    },
    {
      "cell_type": "code",
      "source": [
        "plt.xlim(-30, 30)\n",
        "plt.ylim(-5, 5)\n",
        "plt.plot(x, y, 'b')\n",
        "plt.grid()"
      ],
      "metadata": {
        "colab": {
          "base_uri": "https://localhost:8080/",
          "height": 284
        },
        "id": "5lNAMXu5IVQa",
        "outputId": "1c9b6a8f-619d-4827-f28c-b2d4fd6af22f"
      },
      "execution_count": 28,
      "outputs": [
        {
          "output_type": "execute_result",
          "data": {
            "text/plain": [
              "[<matplotlib.lines.Line2D at 0x7f3664d4dc10>]"
            ]
          },
          "metadata": {},
          "execution_count": 28
        },
        {
          "output_type": "display_data",
          "data": {
            "text/plain": [
              "<Figure size 432x288 with 1 Axes>"
            ],
            "image/png": "[encoded data removed]"
          },
          "metadata": {
            "needs_background": "light"
          }
        }
      ]
    },
    {
      "cell_type": "markdown",
      "source": [
        "####$f(x) = \\frac{x-1}{x²+5x-6}$"
      ],
      "metadata": {
        "id": "5gybQC5XOkC9"
      }
    },
    {
      "cell_type": "code",
      "source": [
        "x = sym.symbols('x')\n",
        "sym.limit((1)/(x**2+5*x),x,0)"
      ],
      "metadata": {
        "colab": {
          "base_uri": "https://localhost:8080/",
          "height": 37
        },
        "id": "XGZwfmBM5M1b",
        "outputId": "5a20e0b4-9bb6-4349-9379-9dbe43f96b02"
      },
      "execution_count": 34,
      "outputs": [
        {
          "output_type": "execute_result",
          "data": {
            "text/plain": [
              "oo"
            ],
            "text/latex": "$\\displaystyle \\infty$"
          },
          "metadata": {},
          "execution_count": 34
        }
      ]
    },
    {
      "cell_type": "code",
      "source": [
        "x = np.linspace(-30, 30, 50)\n",
        "y = (x-1)/(x**2+5*x-6)\n",
        "plt.xlim(-30, 30)\n",
        "plt.ylim(-1, 1)\n",
        "plt.plot(x, y, 'b')\n",
        "plt.grid()"
      ],
      "metadata": {
        "colab": {
          "base_uri": "https://localhost:8080/",
          "height": 269
        },
        "id": "Oo768pBpIdfS",
        "outputId": "1cad30d1-13da-42a6-d0e6-01475b3f8db5"
      },
      "execution_count": 33,
      "outputs": [
        {
          "output_type": "display_data",
          "data": {
            "text/plain": [
              "<Figure size 432x288 with 1 Axes>"
            ],
            "image/png": "[encoded data removed]"
          },
          "metadata": {
            "needs_background": "light"
          }
        }
      ]
    },
    {
      "cell_type": "markdown",
      "source": [
        "####$f(x) = \\frac{3+x}{x²-2}$"
      ],
      "metadata": {
        "id": "s-jVhyeDOrRL"
      }
    },
    {
      "cell_type": "code",
      "source": [
        "x = sym.symbols('x')x = np.linspace(-14, 14, 30)\n",
        "y = (3+x)/(x**2-2)\n",
        "plt.xlim(-15, 15)\n",
        "plt.ylim(-5, 5)\n",
        "plt.plot(x, y, 'r')\n",
        "\n",
        "sym.limit((1)/(x**2+5*x),x,0)"
      ],
      "metadata": {
        "id": "mZPX8aRi5OHS"
      },
      "execution_count": null,
      "outputs": []
    },
    {
      "cell_type": "code",
      "source": [
        "x = np.linspace(-14, 14, 30)\n",
        "y = (3+x)/(x**2-2)\n",
        "plt.xlim(-15, 15)\n",
        "plt.ylim(-5, 15)\n",
        "plt.plot(x, y, 'b')\n",
        "plt.grid()"
      ],
      "metadata": {
        "colab": {
          "base_uri": "https://localhost:8080/",
          "height": 269
        },
        "id": "BIJ81fOrIlwO",
        "outputId": "92e7abae-72b1-4851-e1e8-e9e8e7174019"
      },
      "execution_count": 32,
      "outputs": [
        {
          "output_type": "display_data",
          "data": {
            "text/plain": [
              "<Figure size 432x288 with 1 Axes>"
            ],
            "image/png": "[encoded data removed]"
          },
          "metadata": {
            "needs_background": "light"
          }
        }
      ]
    }
  ]
}